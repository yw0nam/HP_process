{
 "cells": [
  {
   "cell_type": "code",
   "execution_count": 1,
   "id": "dedicated-citation",
   "metadata": {
    "ExecuteTime": {
     "end_time": "2021-09-27T08:34:59.104580Z",
     "start_time": "2021-09-27T08:34:58.793920Z"
    }
   },
   "outputs": [],
   "source": [
    "from utils import *\n",
    "# from elasticsearch import Elasticsearch, helpers\n",
    "import pandas as pd\n",
    "import numpy as np\n",
    "import re"
   ]
  },
  {
   "cell_type": "code",
   "execution_count": 2,
   "id": "thrown-pound",
   "metadata": {
    "ExecuteTime": {
     "end_time": "2021-09-27T08:35:00.051302Z",
     "start_time": "2021-09-27T08:34:59.106638Z"
    }
   },
   "outputs": [
    {
     "name": "stderr",
     "output_type": "stream",
     "text": [
      "/home/spow12/anaconda3/envs/nam/lib/python3.7/site-packages/IPython/core/interactiveshell.py:3166: DtypeWarning: Columns (8,9,15,16,17,18,19,24,25,26,27,83,84,85,86,87,88,89,90,91,92,117,118,119,120,121,122,123,124) have mixed types.Specify dtype option on import or set low_memory=False.\n",
      "  interactivity=interactivity, compiler=compiler, result=result)\n"
     ]
    }
   ],
   "source": [
    "csv = pd.read_csv('../data/apply_exclusion.csv')\n",
    "csv = csv.drop_duplicates('환자번호#1')\n",
    "bert_predict = pd.read_csv('../data/analysis_bert_predict.csv', index_col=0)\n",
    "csv_bert = csv.query('index in @bert_predict.index')\n",
    "\n",
    "csv_date = csv.copy()"
   ]
  },
  {
   "cell_type": "markdown",
   "id": "outdoor-terrain",
   "metadata": {},
   "source": [
    "# Group 1 After Eradication (-)"
   ]
  },
  {
   "cell_type": "code",
   "execution_count": 3,
   "id": "verbal-position",
   "metadata": {
    "ExecuteTime": {
     "end_time": "2021-09-27T08:35:00.081221Z",
     "start_time": "2021-09-27T08:35:00.053525Z"
    }
   },
   "outputs": [],
   "source": [
    "eradication_csv_1 = pd.read_csv(\"../data/HP_drug_1_unlock.csv\", \n",
    "                              index_col=0, encoding='CP949')\n",
    "eradication_csv_2 = pd.read_csv(\"../data/HP_drug_2_unlock.csv\", \n",
    "                              index_col=0, encoding='CP949')\n",
    "\n",
    "ids = \"\"\"9AC558D65B79\n",
    "04BDCD741155\n",
    "1AFB512C82A3\n",
    "3022C503FFF5\n",
    "3FEBB3B96B55\n",
    "A0B832BFF72D\n",
    "C1D75C2111A9\n",
    "E4FF02C660DF\n",
    "F7A27A7295ED\"\"\"\n",
    "\n",
    "ids = list(set(eradication_csv_1['환자번호#1'].to_list()  + eradication_csv_2['환자번호#1'].to_list() + ids.split()))"
   ]
  },
  {
   "cell_type": "code",
   "execution_count": 4,
   "id": "characteristic-support",
   "metadata": {
    "ExecuteTime": {
     "end_time": "2021-09-27T08:35:00.617698Z",
     "start_time": "2021-09-27T08:35:00.595111Z"
    }
   },
   "outputs": [],
   "source": [
    "index_eradication = list(csv[csv['환자번호#1'].isin(ids)].index)\n",
    "\n",
    "index_160 = list(csv[csv['TRT_HELICO_PYLORI#160'] == 1].index)\n",
    "index_161 = list(csv[csv['STATUS_HELICO_PYLORI#161'].isin([1, 2])].index)\n",
    "index = list(set(index_160+index_161 + index_eradication))"
   ]
  },
  {
   "cell_type": "code",
   "execution_count": 5,
   "id": "skilled-telephone",
   "metadata": {
    "ExecuteTime": {
     "end_time": "2021-09-27T08:35:01.287558Z",
     "start_time": "2021-09-27T08:35:01.253153Z"
    }
   },
   "outputs": [],
   "source": [
    "expr = 'index in @index'\n",
    "data_1 = csv.query(expr)"
   ]
  },
  {
   "cell_type": "code",
   "execution_count": 6,
   "id": "retired-louisiana",
   "metadata": {
    "ExecuteTime": {
     "end_time": "2021-09-27T08:35:01.971917Z",
     "start_time": "2021-09-27T08:35:01.908802Z"
    }
   },
   "outputs": [
    {
     "data": {
      "text/html": [
       "<div>\n",
       "<style scoped>\n",
       "    .dataframe tbody tr th:only-of-type {\n",
       "        vertical-align: middle;\n",
       "    }\n",
       "\n",
       "    .dataframe tbody tr th {\n",
       "        vertical-align: top;\n",
       "    }\n",
       "\n",
       "    .dataframe thead th {\n",
       "        text-align: right;\n",
       "    }\n",
       "</style>\n",
       "<table border=\"1\" class=\"dataframe\">\n",
       "  <thead>\n",
       "    <tr style=\"text-align: right;\">\n",
       "      <th></th>\n",
       "      <th>환자번호#1</th>\n",
       "      <th>내원구분코드#2</th>\n",
       "      <th>처방일자#3</th>\n",
       "      <th>처방일자{연령}#4</th>\n",
       "      <th>검사코드#5</th>\n",
       "      <th>검사명#6</th>\n",
       "      <th>검사결과내용#7</th>\n",
       "      <th>성별#8</th>\n",
       "      <th>사망일자#9</th>\n",
       "      <th>사망일#10</th>\n",
       "      <th>...</th>\n",
       "      <th>CANCER_STOMACH_AGE_DIAG#164</th>\n",
       "      <th>TRT_CANCER_STOMACH#165</th>\n",
       "      <th>TRT_CANCER_STOMACH_OP#166</th>\n",
       "      <th>TRT_CANCER_STOMACH_CH#167</th>\n",
       "      <th>TRT_CANCER_STOMACH_RA#168</th>\n",
       "      <th>TRT_CANCER_STOMACH_OT#169</th>\n",
       "      <th>FAMILY_CANCER_STOMACH_F#170</th>\n",
       "      <th>FAMILY_CANCER_STOMACH_M#171</th>\n",
       "      <th>FAMILY_CANCER_STOMACH_SIB#172</th>\n",
       "      <th>FAMILY_CANCER_STOMACH_CH#173</th>\n",
       "    </tr>\n",
       "  </thead>\n",
       "  <tbody>\n",
       "    <tr>\n",
       "      <th>10</th>\n",
       "      <td>00C1CA22FA03</td>\n",
       "      <td>G</td>\n",
       "      <td>2008-06-19</td>\n",
       "      <td>46.0</td>\n",
       "      <td>BS4100</td>\n",
       "      <td>Esophagogastroduodenoscopy</td>\n",
       "      <td>ESOPHAGUS  :  FREE\\n\\n\\n\\nSTOMACH  :  Diffuse ...</td>\n",
       "      <td>M</td>\n",
       "      <td>NaN</td>\n",
       "      <td>NaN</td>\n",
       "      <td>...</td>\n",
       "      <td>9999.0</td>\n",
       "      <td>9999.0</td>\n",
       "      <td>9999.0</td>\n",
       "      <td>9999.0</td>\n",
       "      <td>9999.0</td>\n",
       "      <td>9999.0</td>\n",
       "      <td>0.0</td>\n",
       "      <td>0.0</td>\n",
       "      <td>0.0</td>\n",
       "      <td>0.0</td>\n",
       "    </tr>\n",
       "    <tr>\n",
       "      <th>16</th>\n",
       "      <td>00C22191986B</td>\n",
       "      <td>G</td>\n",
       "      <td>2010-10-14</td>\n",
       "      <td>50.0</td>\n",
       "      <td>BS4100</td>\n",
       "      <td>Esophagogastroduodenoscopy</td>\n",
       "      <td>▣ 검사정보 및 소견\\n\\nEGD\\n\\n\\n\\n\\n\\nESOPHAGUS  :  FR...</td>\n",
       "      <td>M</td>\n",
       "      <td>NaN</td>\n",
       "      <td>NaN</td>\n",
       "      <td>...</td>\n",
       "      <td>NaN</td>\n",
       "      <td>NaN</td>\n",
       "      <td>NaN</td>\n",
       "      <td>NaN</td>\n",
       "      <td>NaN</td>\n",
       "      <td>NaN</td>\n",
       "      <td>0.0</td>\n",
       "      <td>0.0</td>\n",
       "      <td>0.0</td>\n",
       "      <td>0.0</td>\n",
       "    </tr>\n",
       "    <tr>\n",
       "      <th>30</th>\n",
       "      <td>00C3FBAAD643</td>\n",
       "      <td>G</td>\n",
       "      <td>2009-02-06</td>\n",
       "      <td>34.0</td>\n",
       "      <td>BS4100</td>\n",
       "      <td>Esophagogastroduodenoscopy</td>\n",
       "      <td>ESOPHAGUS  :  FREE\\n\\n\\n\\nSTOMACH  : On the P/...</td>\n",
       "      <td>M</td>\n",
       "      <td>NaN</td>\n",
       "      <td>NaN</td>\n",
       "      <td>...</td>\n",
       "      <td>9999.0</td>\n",
       "      <td>9999.0</td>\n",
       "      <td>9999.0</td>\n",
       "      <td>9999.0</td>\n",
       "      <td>9999.0</td>\n",
       "      <td>9999.0</td>\n",
       "      <td>0.0</td>\n",
       "      <td>0.0</td>\n",
       "      <td>0.0</td>\n",
       "      <td>0.0</td>\n",
       "    </tr>\n",
       "    <tr>\n",
       "      <th>35</th>\n",
       "      <td>00C5DC04622B</td>\n",
       "      <td>G</td>\n",
       "      <td>2010-03-11</td>\n",
       "      <td>51.0</td>\n",
       "      <td>BS4100</td>\n",
       "      <td>Esophagogastroduodenoscopy</td>\n",
       "      <td>▣ 검사정보 및 소견\\n\\nESOPHAGUS  :  FREE\\n\\n\\n\\nSTOMA...</td>\n",
       "      <td>M</td>\n",
       "      <td>NaN</td>\n",
       "      <td>NaN</td>\n",
       "      <td>...</td>\n",
       "      <td>NaN</td>\n",
       "      <td>NaN</td>\n",
       "      <td>NaN</td>\n",
       "      <td>NaN</td>\n",
       "      <td>NaN</td>\n",
       "      <td>NaN</td>\n",
       "      <td>0.0</td>\n",
       "      <td>0.0</td>\n",
       "      <td>0.0</td>\n",
       "      <td>0.0</td>\n",
       "    </tr>\n",
       "    <tr>\n",
       "      <th>56</th>\n",
       "      <td>00E39866B8BF</td>\n",
       "      <td>G</td>\n",
       "      <td>2009-07-01</td>\n",
       "      <td>37.0</td>\n",
       "      <td>BS4100</td>\n",
       "      <td>Esophagogastroduodenoscopy</td>\n",
       "      <td>ESOPHAGUS  :  FREE\\n\\n\\n\\nSTOMACH  :  On the p...</td>\n",
       "      <td>F</td>\n",
       "      <td>NaN</td>\n",
       "      <td>NaN</td>\n",
       "      <td>...</td>\n",
       "      <td>9999.0</td>\n",
       "      <td>9999.0</td>\n",
       "      <td>9999.0</td>\n",
       "      <td>9999.0</td>\n",
       "      <td>9999.0</td>\n",
       "      <td>9999.0</td>\n",
       "      <td>0.0</td>\n",
       "      <td>0.0</td>\n",
       "      <td>0.0</td>\n",
       "      <td>0.0</td>\n",
       "    </tr>\n",
       "    <tr>\n",
       "      <th>...</th>\n",
       "      <td>...</td>\n",
       "      <td>...</td>\n",
       "      <td>...</td>\n",
       "      <td>...</td>\n",
       "      <td>...</td>\n",
       "      <td>...</td>\n",
       "      <td>...</td>\n",
       "      <td>...</td>\n",
       "      <td>...</td>\n",
       "      <td>...</td>\n",
       "      <td>...</td>\n",
       "      <td>...</td>\n",
       "      <td>...</td>\n",
       "      <td>...</td>\n",
       "      <td>...</td>\n",
       "      <td>...</td>\n",
       "      <td>...</td>\n",
       "      <td>...</td>\n",
       "      <td>...</td>\n",
       "      <td>...</td>\n",
       "      <td>...</td>\n",
       "    </tr>\n",
       "    <tr>\n",
       "      <th>32873</th>\n",
       "      <td>FEF301A497D1</td>\n",
       "      <td>G</td>\n",
       "      <td>2018-04-16</td>\n",
       "      <td>60.0</td>\n",
       "      <td>BS4100</td>\n",
       "      <td>Esophagogastroduodenoscopy</td>\n",
       "      <td>▣ 검사정보 및 소견\\n\\n\\n\\nEGD\\n\\n\\n\\n■ Clinical Infor...</td>\n",
       "      <td>M</td>\n",
       "      <td>NaN</td>\n",
       "      <td>NaN</td>\n",
       "      <td>...</td>\n",
       "      <td>NaN</td>\n",
       "      <td>NaN</td>\n",
       "      <td>NaN</td>\n",
       "      <td>NaN</td>\n",
       "      <td>NaN</td>\n",
       "      <td>NaN</td>\n",
       "      <td>0.0</td>\n",
       "      <td>0.0</td>\n",
       "      <td>0.0</td>\n",
       "      <td>0.0</td>\n",
       "    </tr>\n",
       "    <tr>\n",
       "      <th>32887</th>\n",
       "      <td>FF5CCF68C62B</td>\n",
       "      <td>G</td>\n",
       "      <td>2019-03-27</td>\n",
       "      <td>49.0</td>\n",
       "      <td>BS4100</td>\n",
       "      <td>Esophagogastroduodenoscopy</td>\n",
       "      <td>▣ 검사정보 및 소견\\n\\n\\n\\nEGD\\n\\n\\n\\n■ Clinical Infor...</td>\n",
       "      <td>F</td>\n",
       "      <td>NaN</td>\n",
       "      <td>NaN</td>\n",
       "      <td>...</td>\n",
       "      <td>NaN</td>\n",
       "      <td>NaN</td>\n",
       "      <td>NaN</td>\n",
       "      <td>NaN</td>\n",
       "      <td>NaN</td>\n",
       "      <td>NaN</td>\n",
       "      <td>0.0</td>\n",
       "      <td>0.0</td>\n",
       "      <td>0.0</td>\n",
       "      <td>0.0</td>\n",
       "    </tr>\n",
       "    <tr>\n",
       "      <th>32889</th>\n",
       "      <td>FF6BA28BD403</td>\n",
       "      <td>G</td>\n",
       "      <td>2018-04-17</td>\n",
       "      <td>72.0</td>\n",
       "      <td>BS4100</td>\n",
       "      <td>Esophagogastroduodenoscopy</td>\n",
       "      <td>▣ 검사정보 및 소견\\n\\n\\n\\nEGD\\n\\n\\n\\n■ Clinical Infor...</td>\n",
       "      <td>M</td>\n",
       "      <td>NaN</td>\n",
       "      <td>NaN</td>\n",
       "      <td>...</td>\n",
       "      <td>NaN</td>\n",
       "      <td>NaN</td>\n",
       "      <td>NaN</td>\n",
       "      <td>NaN</td>\n",
       "      <td>NaN</td>\n",
       "      <td>NaN</td>\n",
       "      <td>0.0</td>\n",
       "      <td>0.0</td>\n",
       "      <td>0.0</td>\n",
       "      <td>0.0</td>\n",
       "    </tr>\n",
       "    <tr>\n",
       "      <th>32890</th>\n",
       "      <td>FF6D594991A1</td>\n",
       "      <td>G</td>\n",
       "      <td>2018-11-07</td>\n",
       "      <td>52.0</td>\n",
       "      <td>BS4100</td>\n",
       "      <td>Esophagogastroduodenoscopy</td>\n",
       "      <td>▣ 검사정보 및 소견\\n\\n\\n\\nEGD\\n\\n\\n\\n■ Clinical Infor...</td>\n",
       "      <td>F</td>\n",
       "      <td>NaN</td>\n",
       "      <td>NaN</td>\n",
       "      <td>...</td>\n",
       "      <td>NaN</td>\n",
       "      <td>NaN</td>\n",
       "      <td>NaN</td>\n",
       "      <td>NaN</td>\n",
       "      <td>NaN</td>\n",
       "      <td>NaN</td>\n",
       "      <td>0.0</td>\n",
       "      <td>0.0</td>\n",
       "      <td>0.0</td>\n",
       "      <td>0.0</td>\n",
       "    </tr>\n",
       "    <tr>\n",
       "      <th>32892</th>\n",
       "      <td>FF73FD1B9755</td>\n",
       "      <td>G</td>\n",
       "      <td>2017-06-24</td>\n",
       "      <td>44.0</td>\n",
       "      <td>BS4100</td>\n",
       "      <td>Esophagogastroduodenoscopy</td>\n",
       "      <td>▣ 검사정보 및 소견\\n\\n\\n\\nEGD\\n\\n\\n\\n■ Clinical Infor...</td>\n",
       "      <td>M</td>\n",
       "      <td>NaN</td>\n",
       "      <td>NaN</td>\n",
       "      <td>...</td>\n",
       "      <td>NaN</td>\n",
       "      <td>NaN</td>\n",
       "      <td>NaN</td>\n",
       "      <td>NaN</td>\n",
       "      <td>NaN</td>\n",
       "      <td>NaN</td>\n",
       "      <td>0.0</td>\n",
       "      <td>0.0</td>\n",
       "      <td>0.0</td>\n",
       "      <td>0.0</td>\n",
       "    </tr>\n",
       "  </tbody>\n",
       "</table>\n",
       "<p>4143 rows × 173 columns</p>\n",
       "</div>"
      ],
      "text/plain": [
       "             환자번호#1 내원구분코드#2      처방일자#3  처방일자{연령}#4  검사코드#5  \\\n",
       "10     00C1CA22FA03        G  2008-06-19        46.0  BS4100   \n",
       "16     00C22191986B        G  2010-10-14        50.0  BS4100   \n",
       "30     00C3FBAAD643        G  2009-02-06        34.0  BS4100   \n",
       "35     00C5DC04622B        G  2010-03-11        51.0  BS4100   \n",
       "56     00E39866B8BF        G  2009-07-01        37.0  BS4100   \n",
       "...             ...      ...         ...         ...     ...   \n",
       "32873  FEF301A497D1        G  2018-04-16        60.0  BS4100   \n",
       "32887  FF5CCF68C62B        G  2019-03-27        49.0  BS4100   \n",
       "32889  FF6BA28BD403        G  2018-04-17        72.0  BS4100   \n",
       "32890  FF6D594991A1        G  2018-11-07        52.0  BS4100   \n",
       "32892  FF73FD1B9755        G  2017-06-24        44.0  BS4100   \n",
       "\n",
       "                            검사명#6  \\\n",
       "10     Esophagogastroduodenoscopy   \n",
       "16     Esophagogastroduodenoscopy   \n",
       "30     Esophagogastroduodenoscopy   \n",
       "35     Esophagogastroduodenoscopy   \n",
       "56     Esophagogastroduodenoscopy   \n",
       "...                           ...   \n",
       "32873  Esophagogastroduodenoscopy   \n",
       "32887  Esophagogastroduodenoscopy   \n",
       "32889  Esophagogastroduodenoscopy   \n",
       "32890  Esophagogastroduodenoscopy   \n",
       "32892  Esophagogastroduodenoscopy   \n",
       "\n",
       "                                                검사결과내용#7 성별#8 사망일자#9 사망일#10  \\\n",
       "10     ESOPHAGUS  :  FREE\\n\\n\\n\\nSTOMACH  :  Diffuse ...    M    NaN    NaN   \n",
       "16     ▣ 검사정보 및 소견\\n\\nEGD\\n\\n\\n\\n\\n\\nESOPHAGUS  :  FR...    M    NaN    NaN   \n",
       "30     ESOPHAGUS  :  FREE\\n\\n\\n\\nSTOMACH  : On the P/...    M    NaN    NaN   \n",
       "35     ▣ 검사정보 및 소견\\n\\nESOPHAGUS  :  FREE\\n\\n\\n\\nSTOMA...    M    NaN    NaN   \n",
       "56     ESOPHAGUS  :  FREE\\n\\n\\n\\nSTOMACH  :  On the p...    F    NaN    NaN   \n",
       "...                                                  ...  ...    ...    ...   \n",
       "32873  ▣ 검사정보 및 소견\\n\\n\\n\\nEGD\\n\\n\\n\\n■ Clinical Infor...    M    NaN    NaN   \n",
       "32887  ▣ 검사정보 및 소견\\n\\n\\n\\nEGD\\n\\n\\n\\n■ Clinical Infor...    F    NaN    NaN   \n",
       "32889  ▣ 검사정보 및 소견\\n\\n\\n\\nEGD\\n\\n\\n\\n■ Clinical Infor...    M    NaN    NaN   \n",
       "32890  ▣ 검사정보 및 소견\\n\\n\\n\\nEGD\\n\\n\\n\\n■ Clinical Infor...    F    NaN    NaN   \n",
       "32892  ▣ 검사정보 및 소견\\n\\n\\n\\nEGD\\n\\n\\n\\n■ Clinical Infor...    M    NaN    NaN   \n",
       "\n",
       "       ... CANCER_STOMACH_AGE_DIAG#164 TRT_CANCER_STOMACH#165  \\\n",
       "10     ...                      9999.0                 9999.0   \n",
       "16     ...                         NaN                    NaN   \n",
       "30     ...                      9999.0                 9999.0   \n",
       "35     ...                         NaN                    NaN   \n",
       "56     ...                      9999.0                 9999.0   \n",
       "...    ...                         ...                    ...   \n",
       "32873  ...                         NaN                    NaN   \n",
       "32887  ...                         NaN                    NaN   \n",
       "32889  ...                         NaN                    NaN   \n",
       "32890  ...                         NaN                    NaN   \n",
       "32892  ...                         NaN                    NaN   \n",
       "\n",
       "      TRT_CANCER_STOMACH_OP#166 TRT_CANCER_STOMACH_CH#167  \\\n",
       "10                       9999.0                    9999.0   \n",
       "16                          NaN                       NaN   \n",
       "30                       9999.0                    9999.0   \n",
       "35                          NaN                       NaN   \n",
       "56                       9999.0                    9999.0   \n",
       "...                         ...                       ...   \n",
       "32873                       NaN                       NaN   \n",
       "32887                       NaN                       NaN   \n",
       "32889                       NaN                       NaN   \n",
       "32890                       NaN                       NaN   \n",
       "32892                       NaN                       NaN   \n",
       "\n",
       "      TRT_CANCER_STOMACH_RA#168 TRT_CANCER_STOMACH_OT#169  \\\n",
       "10                       9999.0                    9999.0   \n",
       "16                          NaN                       NaN   \n",
       "30                       9999.0                    9999.0   \n",
       "35                          NaN                       NaN   \n",
       "56                       9999.0                    9999.0   \n",
       "...                         ...                       ...   \n",
       "32873                       NaN                       NaN   \n",
       "32887                       NaN                       NaN   \n",
       "32889                       NaN                       NaN   \n",
       "32890                       NaN                       NaN   \n",
       "32892                       NaN                       NaN   \n",
       "\n",
       "      FAMILY_CANCER_STOMACH_F#170 FAMILY_CANCER_STOMACH_M#171  \\\n",
       "10                            0.0                         0.0   \n",
       "16                            0.0                         0.0   \n",
       "30                            0.0                         0.0   \n",
       "35                            0.0                         0.0   \n",
       "56                            0.0                         0.0   \n",
       "...                           ...                         ...   \n",
       "32873                         0.0                         0.0   \n",
       "32887                         0.0                         0.0   \n",
       "32889                         0.0                         0.0   \n",
       "32890                         0.0                         0.0   \n",
       "32892                         0.0                         0.0   \n",
       "\n",
       "      FAMILY_CANCER_STOMACH_SIB#172 FAMILY_CANCER_STOMACH_CH#173  \n",
       "10                              0.0                          0.0  \n",
       "16                              0.0                          0.0  \n",
       "30                              0.0                          0.0  \n",
       "35                              0.0                          0.0  \n",
       "56                              0.0                          0.0  \n",
       "...                             ...                          ...  \n",
       "32873                           0.0                          0.0  \n",
       "32887                           0.0                          0.0  \n",
       "32889                           0.0                          0.0  \n",
       "32890                           0.0                          0.0  \n",
       "32892                           0.0                          0.0  \n",
       "\n",
       "[4143 rows x 173 columns]"
      ]
     },
     "execution_count": 6,
     "metadata": {},
     "output_type": "execute_result"
    }
   ],
   "source": [
    "data_1"
   ]
  },
  {
   "cell_type": "code",
   "execution_count": 7,
   "id": "offshore-paradise",
   "metadata": {
    "ExecuteTime": {
     "end_time": "2021-09-27T08:35:03.481468Z",
     "start_time": "2021-09-27T08:35:03.425807Z"
    }
   },
   "outputs": [],
   "source": [
    "temp = data_1.copy()\n",
    "temp = temp[temp['검사결과내용(최초1) #104'].map(lambda x: map_fn(x) != 0)]\n",
    "query_text = ['for .* pylori', 'pylori .* was',\n",
    "              'pylori .* were', 'for .* HP', 'For .* pylori',\n",
    "              'pylori study']\n",
    "\n",
    "p = re.compile('|'.join(query_text))\n",
    "temp = temp[temp['검사결과내용(최초1) #104'].map(lambda x: find_text(x, p)) == 1]"
   ]
  },
  {
   "cell_type": "code",
   "execution_count": 8,
   "id": "documentary-diagram",
   "metadata": {
    "ExecuteTime": {
     "end_time": "2021-09-27T08:35:04.389070Z",
     "start_time": "2021-09-27T08:35:04.359027Z"
    }
   },
   "outputs": [],
   "source": [
    "bert_pred_1 = bert_predict.query('index in @temp.index')\n",
    "temp['result'] = bert_pred_1\n",
    "temp = temp.query('result == 0')"
   ]
  },
  {
   "cell_type": "code",
   "execution_count": 9,
   "id": "dutch-history",
   "metadata": {
    "ExecuteTime": {
     "end_time": "2021-09-27T08:35:05.703491Z",
     "start_time": "2021-09-27T08:35:05.694411Z"
    }
   },
   "outputs": [],
   "source": [
    "temp = temp.dropna(subset=['result'])\n",
    "csv_bx_1 = temp[temp['검사명(최초1) #109'] != 'Urease Breath Test']"
   ]
  },
  {
   "cell_type": "code",
   "execution_count": 10,
   "id": "blind-vehicle",
   "metadata": {
    "ExecuteTime": {
     "end_time": "2021-09-27T08:35:06.299404Z",
     "start_time": "2021-09-27T08:35:06.275934Z"
    }
   },
   "outputs": [],
   "source": [
    "temp = data_1.copy()\n",
    "temp = temp[temp['검사결과내용(최초1) #104'].map(lambda x: map_fn(x) != 0)]\n",
    "p = re.compile('CLO.*[(]\\s*[-]\\s*[)]')\n",
    "csv_clo = temp[temp['검사결과내용(최초1) #104'].map(lambda x: find_text(x, p)) == 1]"
   ]
  },
  {
   "cell_type": "code",
   "execution_count": 11,
   "id": "proof-hospital",
   "metadata": {
    "ExecuteTime": {
     "end_time": "2021-09-27T08:35:06.751604Z",
     "start_time": "2021-09-27T08:35:06.724026Z"
    }
   },
   "outputs": [],
   "source": [
    "cz_index = list(set(list(csv_bx_1.index) + list(csv_clo.index)))\n",
    "csv_cz_1 = data_1.query('index in @cz_index')"
   ]
  },
  {
   "cell_type": "code",
   "execution_count": 12,
   "id": "concerned-stationery",
   "metadata": {
    "ExecuteTime": {
     "end_time": "2021-09-27T08:35:07.196863Z",
     "start_time": "2021-09-27T08:35:07.172542Z"
    }
   },
   "outputs": [],
   "source": [
    "temp = data_1[data_1['검사결과내용(최초1) #116'].map(lambda x: map_fn(x) != 0)]\n",
    "\n",
    "query_text = ['result[\\s]*:[\\s]*negative', 'result[\\s]*:[\\s]*neagtive',\n",
    "             'result[\\s]*:[\\s]*negaitve', 'result[\\s]*:[\\s]*negatie']\n",
    "p = re.compile('|'.join(query_text))\n",
    "\n",
    "csv_ubt_1 = temp[temp['검사결과내용(최초1) #116'].map(lambda x: find_text(x.lower(), p)) == 1]"
   ]
  },
  {
   "cell_type": "code",
   "execution_count": 13,
   "id": "distributed-disco",
   "metadata": {
    "ExecuteTime": {
     "end_time": "2021-09-27T08:35:07.943872Z",
     "start_time": "2021-09-27T08:35:07.905624Z"
    }
   },
   "outputs": [],
   "source": [
    "temp = data_1[data_1['검사결과내용(최초1) #110'].map(lambda x: map_fn(x) != 0)]\n",
    "\n",
    "query_text = ['result[\\s]*:[\\s]*negative', 'result[\\s]*:[\\s]*neagtive',\n",
    "             'result[\\s]*:[\\s]*negaitve', 'result[\\s]*:[\\s]*negatie']\n",
    "p = re.compile('|'.join(query_text))\n",
    "\n",
    "csv_ubt_df_1 = temp[temp['검사결과내용(최초1) #110'].map(lambda x: find_text(x.lower(), p)) == 1]"
   ]
  },
  {
   "cell_type": "code",
   "execution_count": 14,
   "id": "white-robert",
   "metadata": {
    "ExecuteTime": {
     "end_time": "2021-09-27T08:35:08.460808Z",
     "start_time": "2021-09-27T08:35:08.452242Z"
    }
   },
   "outputs": [],
   "source": [
    "csv_date['Group_1_DL'] = csv_ubt_1['처방일자(최초1) #113']\n",
    "csv_date['Group_1_CZ'] = csv_cz_1['처방일자(최초1) #101']\n",
    "csv_date['Group_1_DF'] = csv_ubt_df_1['처방일자(최초1) #107']"
   ]
  },
  {
   "cell_type": "code",
   "execution_count": 15,
   "id": "changed-reconstruction",
   "metadata": {
    "ExecuteTime": {
     "end_time": "2021-09-27T08:35:09.073710Z",
     "start_time": "2021-09-27T08:35:09.069036Z"
    }
   },
   "outputs": [
    {
     "name": "stdout",
     "output_type": "stream",
     "text": [
      "1390 645 38 17\n"
     ]
    }
   ],
   "source": [
    "print(len(csv_ubt_1), len(csv_ubt_df_1), len(csv_bx_1), len(csv_clo))"
   ]
  },
  {
   "cell_type": "code",
   "execution_count": 16,
   "id": "proof-yahoo",
   "metadata": {
    "ExecuteTime": {
     "end_time": "2021-09-27T08:35:09.977119Z",
     "start_time": "2021-09-27T08:35:09.971913Z"
    }
   },
   "outputs": [],
   "source": [
    "group_1 = list(set(list(csv_ubt_1.index) + list(csv_ubt_df_1.index)+ list(csv_cz_1.index)))"
   ]
  },
  {
   "cell_type": "code",
   "execution_count": 17,
   "id": "alert-pension",
   "metadata": {
    "ExecuteTime": {
     "end_time": "2021-09-27T08:35:10.479370Z",
     "start_time": "2021-09-27T08:35:10.474108Z"
    }
   },
   "outputs": [
    {
     "data": {
      "text/plain": [
       "1419"
      ]
     },
     "execution_count": 17,
     "metadata": {},
     "output_type": "execute_result"
    }
   ],
   "source": [
    "len(group_1)"
   ]
  },
  {
   "cell_type": "markdown",
   "id": "shaped-horse",
   "metadata": {
    "ExecuteTime": {
     "end_time": "2021-08-17T07:24:16.317956Z",
     "start_time": "2021-08-17T07:24:16.314670Z"
    }
   },
   "source": [
    "# Group 2 After Eradication (+)"
   ]
  },
  {
   "cell_type": "code",
   "execution_count": 18,
   "id": "starting-green",
   "metadata": {
    "ExecuteTime": {
     "end_time": "2021-09-27T08:35:27.394145Z",
     "start_time": "2021-09-27T08:35:27.372755Z"
    }
   },
   "outputs": [],
   "source": [
    "temp = data_1.copy()\n",
    "temp = temp[temp['검사결과내용(최초1) #104'].map(lambda x: map_fn(x)) != 0]"
   ]
  },
  {
   "cell_type": "code",
   "execution_count": 19,
   "id": "religious-increase",
   "metadata": {
    "ExecuteTime": {
     "end_time": "2021-09-27T08:35:27.697311Z",
     "start_time": "2021-09-27T08:35:27.660660Z"
    }
   },
   "outputs": [],
   "source": [
    "p = re.compile('CLO.*[(]\\s*[+]\\s*[)]')\n",
    "temp = temp[temp['검사결과내용(최초1) #104'].map(lambda x: find_text(x, p)) == 1]\n",
    "\n",
    "exclude_index = [9774, 79298, 100266]\n",
    "\n",
    "expr = 'index not in @exclude_index'\n",
    "csv_clo_2 = temp.query(expr)"
   ]
  },
  {
   "cell_type": "code",
   "execution_count": 20,
   "id": "capital-daisy",
   "metadata": {
    "ExecuteTime": {
     "end_time": "2021-09-27T08:35:27.904886Z",
     "start_time": "2021-09-27T08:35:27.886533Z"
    }
   },
   "outputs": [],
   "source": [
    "temp = data_1[data_1['검사결과내용(최초1) #116'] != '']\n",
    "temp = temp[temp['검사결과내용(최초1) #116'].map(lambda x: map_fn(x)) != 0]"
   ]
  },
  {
   "cell_type": "code",
   "execution_count": 21,
   "id": "exciting-driving",
   "metadata": {
    "ExecuteTime": {
     "end_time": "2021-09-27T08:35:28.116588Z",
     "start_time": "2021-09-27T08:35:28.101653Z"
    }
   },
   "outputs": [],
   "source": [
    "p = re.compile('result[\\s]*:[\\s]*positive')\n",
    "csv_ubt_2 = temp[temp['검사결과내용(최초1) #116'].map(lambda x: find_text(x.lower(), p)) == 1]"
   ]
  },
  {
   "cell_type": "code",
   "execution_count": 22,
   "id": "italian-perfume",
   "metadata": {
    "ExecuteTime": {
     "end_time": "2021-09-27T08:35:28.321647Z",
     "start_time": "2021-09-27T08:35:28.292824Z"
    }
   },
   "outputs": [],
   "source": [
    "temp = data_1[data_1['검사결과내용(최초1) #110'] != '']\n",
    "temp = temp[temp['검사결과내용(최초1) #110'].map(lambda x: map_fn(x)) != 0]\n",
    "temp = temp[temp['검사명(최초1) #109'] == 'Urease Breath Test']\n",
    "\n",
    "p = re.compile('result[\\s]*:[\\s]*positive')\n",
    "csv_ubt_2_df = temp[temp['검사결과내용(최초1) #110'].map(lambda x: find_text(x.lower(), p)) == 1]"
   ]
  },
  {
   "cell_type": "code",
   "execution_count": 23,
   "id": "paperback-hamilton",
   "metadata": {
    "ExecuteTime": {
     "end_time": "2021-09-27T08:35:28.521024Z",
     "start_time": "2021-09-27T08:35:28.482428Z"
    }
   },
   "outputs": [],
   "source": [
    "temp = data_1.copy()\n",
    "\n",
    "bert_pred_2 = bert_predict.query('index in @temp.index')\n",
    "temp['result'] = bert_pred_2\n",
    "data_hp_plus_2 = temp.query('result == 1')\n",
    "data_hp_plus_2 = data_hp_plus_2[data_hp_plus_2['검사명(최초1) #109'] != 'Urease Breath Test']"
   ]
  },
  {
   "cell_type": "code",
   "execution_count": 24,
   "id": "cloudy-balloon",
   "metadata": {
    "ExecuteTime": {
     "end_time": "2021-09-27T08:35:28.849015Z",
     "start_time": "2021-09-27T08:35:28.820483Z"
    }
   },
   "outputs": [],
   "source": [
    "cz_index = list(set(list(data_hp_plus_2.index) + list(csv_ubt_2_df.index)))\n",
    "csv_cz_2 = data_1.query('index in @cz_index')"
   ]
  },
  {
   "cell_type": "code",
   "execution_count": 25,
   "id": "beneficial-lying",
   "metadata": {
    "ExecuteTime": {
     "end_time": "2021-09-27T08:35:29.055396Z",
     "start_time": "2021-09-27T08:35:29.050971Z"
    }
   },
   "outputs": [
    {
     "name": "stdout",
     "output_type": "stream",
     "text": [
      "551 218 621 30\n"
     ]
    }
   ],
   "source": [
    "print(len(csv_ubt_2), len(csv_ubt_2_df), len(data_hp_plus_2), len(csv_clo_2))"
   ]
  },
  {
   "cell_type": "code",
   "execution_count": 26,
   "id": "julian-possession",
   "metadata": {
    "ExecuteTime": {
     "end_time": "2021-09-27T08:35:29.325974Z",
     "start_time": "2021-09-27T08:35:29.314952Z"
    }
   },
   "outputs": [],
   "source": [
    "csv_date['Group_2_DL'] = csv_ubt_2['처방일자(최초1) #113']\n",
    "csv_date['Group_2_CZ'] = csv_clo_2['처방일자(최초1) #101']\n",
    "csv_date['Group_2_DF'] = csv_cz_2['처방일자(최초1) #107']"
   ]
  },
  {
   "cell_type": "code",
   "execution_count": 27,
   "id": "instructional-behavior",
   "metadata": {
    "ExecuteTime": {
     "end_time": "2021-09-27T08:35:29.688053Z",
     "start_time": "2021-09-27T08:35:29.683262Z"
    }
   },
   "outputs": [],
   "source": [
    "group_2 = list(set(list(csv_ubt_2.index) + list(csv_clo_2.index)+ list(csv_cz_2.index)))"
   ]
  },
  {
   "cell_type": "code",
   "execution_count": 28,
   "id": "bizarre-terrorist",
   "metadata": {
    "ExecuteTime": {
     "end_time": "2021-09-27T08:35:30.015352Z",
     "start_time": "2021-09-27T08:35:30.010109Z"
    }
   },
   "outputs": [
    {
     "data": {
      "text/plain": [
       "1115"
      ]
     },
     "execution_count": 28,
     "metadata": {},
     "output_type": "execute_result"
    }
   ],
   "source": [
    "len(group_2)"
   ]
  },
  {
   "cell_type": "markdown",
   "id": "selected-baking",
   "metadata": {},
   "source": [
    "# Group 3 Not Eradication (+)"
   ]
  },
  {
   "cell_type": "code",
   "execution_count": 29,
   "id": "northern-portsmouth",
   "metadata": {
    "ExecuteTime": {
     "end_time": "2021-09-27T08:35:32.218474Z",
     "start_time": "2021-09-27T08:35:32.188030Z"
    }
   },
   "outputs": [],
   "source": [
    "data_3 = csv.query('index not in @index')"
   ]
  },
  {
   "cell_type": "code",
   "execution_count": 30,
   "id": "accredited-canberra",
   "metadata": {
    "ExecuteTime": {
     "end_time": "2021-09-27T08:35:32.467559Z",
     "start_time": "2021-09-27T08:35:32.419204Z"
    }
   },
   "outputs": [],
   "source": [
    "temp = data_3[data_3['검사결과내용(최초1) #104'] != '']\n",
    "temp = temp[temp['검사결과내용(최초1) #104'].map(lambda x: map_fn(x)) != 0]"
   ]
  },
  {
   "cell_type": "code",
   "execution_count": 31,
   "id": "separate-magnet",
   "metadata": {
    "ExecuteTime": {
     "end_time": "2021-09-27T08:35:32.640593Z",
     "start_time": "2021-09-27T08:35:32.595092Z"
    }
   },
   "outputs": [],
   "source": [
    "p = re.compile('CLO.*[(]\\s*[+]\\s*[)]')\n",
    "temp = temp[temp['검사결과내용(최초1) #104'].map(lambda x: find_text(x, p)) == 1]\n",
    "\n",
    "exclude_index = [9774, 79298, 100266]\n",
    "\n",
    "expr = 'index not in @exclude_index'\n",
    "csv_clo_3 = temp.query(expr)"
   ]
  },
  {
   "cell_type": "code",
   "execution_count": 32,
   "id": "bibliographic-shell",
   "metadata": {
    "ExecuteTime": {
     "end_time": "2021-09-27T08:35:32.837981Z",
     "start_time": "2021-09-27T08:35:32.805022Z"
    }
   },
   "outputs": [],
   "source": [
    "temp = data_3[data_3['검사결과내용(최초1) #116'] != '']\n",
    "temp = temp[temp['검사결과내용(최초1) #116'].map(lambda x: map_fn(x)) != 0]"
   ]
  },
  {
   "cell_type": "code",
   "execution_count": 33,
   "id": "industrial-gauge",
   "metadata": {
    "ExecuteTime": {
     "end_time": "2021-09-27T08:35:33.011791Z",
     "start_time": "2021-09-27T08:35:33.004741Z"
    }
   },
   "outputs": [],
   "source": [
    "p = re.compile('result[\\s]*:[\\s]*positive')\n",
    "csv_ubt_3 = temp[temp['검사결과내용(최초1) #116'].map(lambda x: find_text(x.lower(), p)) == 1]"
   ]
  },
  {
   "cell_type": "code",
   "execution_count": 34,
   "id": "national-spoke",
   "metadata": {
    "ExecuteTime": {
     "end_time": "2021-09-27T08:35:33.418252Z",
     "start_time": "2021-09-27T08:35:33.372851Z"
    }
   },
   "outputs": [],
   "source": [
    "temp = data_3[data_3['검사결과내용(최초1) #110'] != '']\n",
    "temp = temp[temp['검사결과내용(최초1) #110'].map(lambda x: map_fn(x)) != 0]\n",
    "temp = temp[temp['검사명(최초1) #109'] == 'Urease Breath Test']\n",
    "\n",
    "p = re.compile('result[\\s]*:[\\s]*positive')\n",
    "csv_ubt_3_df = temp[temp['검사결과내용(최초1) #110'].map(lambda x: find_text(x.lower(), p)) == 1]"
   ]
  },
  {
   "cell_type": "code",
   "execution_count": 35,
   "id": "dependent-payroll",
   "metadata": {
    "ExecuteTime": {
     "end_time": "2021-09-27T08:35:33.589774Z",
     "start_time": "2021-09-27T08:35:33.537299Z"
    }
   },
   "outputs": [],
   "source": [
    "temp = data_3.copy()\n",
    "\n",
    "bert_pred_3 = bert_predict.query('index in @temp.index')\n",
    "temp['result'] = bert_pred_3\n",
    "data_hp_plus_3 = temp.query('result == 1')\n",
    "data_hp_plus_3 = data_hp_plus_3[data_hp_plus_3['검사명(최초1) #109'] != 'Urease Breath Test']"
   ]
  },
  {
   "cell_type": "code",
   "execution_count": 36,
   "id": "smart-classroom",
   "metadata": {
    "ExecuteTime": {
     "end_time": "2021-09-27T08:35:33.763763Z",
     "start_time": "2021-09-27T08:35:33.731261Z"
    }
   },
   "outputs": [],
   "source": [
    "cz_index_3 = list(set(list(data_hp_plus_3.index) + list(csv_ubt_3_df.index)))\n",
    "csv_cz_3 = data_3.query('index in @cz_index_3')"
   ]
  },
  {
   "cell_type": "code",
   "execution_count": 37,
   "id": "figured-scheme",
   "metadata": {
    "ExecuteTime": {
     "end_time": "2021-09-27T08:35:33.931067Z",
     "start_time": "2021-09-27T08:35:33.921800Z"
    }
   },
   "outputs": [],
   "source": [
    "csv_date['Group_3_DL'] = csv_ubt_3['처방일자(최초1) #113']\n",
    "csv_date['Group_3_CZ'] = csv_clo_3['처방일자(최초1) #101']\n",
    "csv_date['Group_3_DF'] = csv_cz_3['처방일자(최초1) #107']"
   ]
  },
  {
   "cell_type": "code",
   "execution_count": 38,
   "id": "aging-representative",
   "metadata": {
    "ExecuteTime": {
     "end_time": "2021-09-27T08:35:34.141515Z",
     "start_time": "2021-09-27T08:35:34.137076Z"
    }
   },
   "outputs": [],
   "source": [
    "group_3 = list(set(list(csv_ubt_3.index) + list(csv_clo_3.index)+ list(csv_cz_3.index)))"
   ]
  },
  {
   "cell_type": "code",
   "execution_count": 39,
   "id": "stupid-penetration",
   "metadata": {
    "ExecuteTime": {
     "end_time": "2021-09-27T08:35:34.525644Z",
     "start_time": "2021-09-27T08:35:34.521026Z"
    }
   },
   "outputs": [
    {
     "name": "stdout",
     "output_type": "stream",
     "text": [
      "479 338 5190 39\n"
     ]
    }
   ],
   "source": [
    "print(len(csv_ubt_3), len(csv_ubt_3_df), len(data_hp_plus_3), len(csv_clo_3))"
   ]
  },
  {
   "cell_type": "code",
   "execution_count": 40,
   "id": "wooden-tamil",
   "metadata": {
    "ExecuteTime": {
     "end_time": "2021-09-27T08:35:34.878468Z",
     "start_time": "2021-09-27T08:35:34.873114Z"
    }
   },
   "outputs": [
    {
     "data": {
      "text/plain": [
       "5679"
      ]
     },
     "execution_count": 40,
     "metadata": {},
     "output_type": "execute_result"
    }
   ],
   "source": [
    "len(group_3)"
   ]
  },
  {
   "cell_type": "markdown",
   "id": "blond-haven",
   "metadata": {},
   "source": [
    "# Group 4 Not Eradication (-)"
   ]
  },
  {
   "cell_type": "code",
   "execution_count": 41,
   "id": "designed-sheriff",
   "metadata": {
    "ExecuteTime": {
     "end_time": "2021-09-27T08:35:43.692176Z",
     "start_time": "2021-09-27T08:35:43.643959Z"
    }
   },
   "outputs": [],
   "source": [
    "temp = data_3[data_3['검사결과내용(최초1) #104'] != '']\n",
    "temp = temp[temp['검사결과내용(최초1) #104'].map(lambda x: map_fn(x)) != 0]"
   ]
  },
  {
   "cell_type": "code",
   "execution_count": 42,
   "id": "distant-response",
   "metadata": {
    "ExecuteTime": {
     "end_time": "2021-09-27T08:35:44.007186Z",
     "start_time": "2021-09-27T08:35:43.908806Z"
    }
   },
   "outputs": [],
   "source": [
    "temp = temp[temp['검사결과내용(최초1) #104'].map(lambda x: map_fn(x) != 0)]\n",
    "query_text = ['for .* pylori', 'pylori .* was',\n",
    "              'pylori .* were', 'for .* HP', 'For .* pylori',\n",
    "              'pylori study']\n",
    "\n",
    "p = re.compile('|'.join(query_text))\n",
    "temp = temp[temp['검사결과내용(최초1) #104'].map(lambda x: find_text(x, p)) == 1]"
   ]
  },
  {
   "cell_type": "code",
   "execution_count": 43,
   "id": "confirmed-packet",
   "metadata": {
    "ExecuteTime": {
     "end_time": "2021-09-27T08:35:44.152536Z",
     "start_time": "2021-09-27T08:35:44.121497Z"
    }
   },
   "outputs": [],
   "source": [
    "bert_pred_4 = bert_predict.query('index in @temp.index')\n",
    "temp['result'] = bert_pred_4\n",
    "temp = temp.query('result == 0')"
   ]
  },
  {
   "cell_type": "code",
   "execution_count": 44,
   "id": "pleasant-costs",
   "metadata": {
    "ExecuteTime": {
     "end_time": "2021-09-27T08:35:44.315615Z",
     "start_time": "2021-09-27T08:35:44.308175Z"
    }
   },
   "outputs": [],
   "source": [
    "temp = temp.dropna(subset=['result'])\n",
    "csv_bx_4 = temp[temp['검사명(최초1) #109'] != 'Urease Breath Test']"
   ]
  },
  {
   "cell_type": "code",
   "execution_count": 45,
   "id": "decimal-comfort",
   "metadata": {
    "ExecuteTime": {
     "end_time": "2021-09-27T08:35:44.544250Z",
     "start_time": "2021-09-27T08:35:44.499778Z"
    }
   },
   "outputs": [],
   "source": [
    "temp = data_3.copy()\n",
    "temp = temp[temp['검사결과내용(최초1) #104'].map(lambda x: map_fn(x) != 0)]\n",
    "p = re.compile('CLO.*[(]\\s*[-]\\s*[)]')\n",
    "csv_clo_4 = temp[temp['검사결과내용(최초1) #104'].map(lambda x: find_text(x, p)) == 1]"
   ]
  },
  {
   "cell_type": "code",
   "execution_count": 46,
   "id": "stunning-desert",
   "metadata": {
    "ExecuteTime": {
     "end_time": "2021-09-27T08:35:44.760203Z",
     "start_time": "2021-09-27T08:35:44.733420Z"
    }
   },
   "outputs": [],
   "source": [
    "cz_index = list(set(list(csv_bx_4.index) + list(csv_clo_4.index)))\n",
    "csv_cz_4 = data_3.query('index in @cz_index')"
   ]
  },
  {
   "cell_type": "code",
   "execution_count": 47,
   "id": "palestinian-convert",
   "metadata": {
    "ExecuteTime": {
     "end_time": "2021-09-27T08:35:45.097802Z",
     "start_time": "2021-09-27T08:35:45.076730Z"
    }
   },
   "outputs": [],
   "source": [
    "temp = data_3[data_3['검사결과내용(최초1) #116'].map(lambda x: map_fn(x) != 0)]\n",
    "\n",
    "query_text = ['result[\\s]*:[\\s]*negative', 'result[\\s]*:[\\s]*neagtive',\n",
    "             'result[\\s]*:[\\s]*negaitve', 'result[\\s]*:[\\s]*negatie']\n",
    "p = re.compile('|'.join(query_text))\n",
    "csv_ubt_4 = temp[temp['검사결과내용(최초1) #116'].map(lambda x: find_text(x.lower(), p)) == 1]"
   ]
  },
  {
   "cell_type": "code",
   "execution_count": 48,
   "id": "greenhouse-concern",
   "metadata": {
    "ExecuteTime": {
     "end_time": "2021-09-27T08:35:45.361860Z",
     "start_time": "2021-09-27T08:35:45.300520Z"
    }
   },
   "outputs": [],
   "source": [
    "temp = data_3[data_3['검사결과내용(최초1) #110'].map(lambda x: map_fn(x) != 0)]\n",
    "\n",
    "query_text = ['result[\\s]*:[\\s]*negative', 'result[\\s]*:[\\s]*neagtive',\n",
    "             'result[\\s]*:[\\s]*negaitve', 'result[\\s]*:[\\s]*negatie']\n",
    "p = re.compile('|'.join(query_text))\n",
    "csv_ubt_df_4 = temp[temp['검사결과내용(최초1) #110'].map(lambda x: find_text(x.lower(), p)) == 1]"
   ]
  },
  {
   "cell_type": "code",
   "execution_count": 49,
   "id": "economic-welcome",
   "metadata": {
    "ExecuteTime": {
     "end_time": "2021-09-27T08:35:45.498825Z",
     "start_time": "2021-09-27T08:35:45.489912Z"
    }
   },
   "outputs": [],
   "source": [
    "csv_date['Group_4_DL'] = csv_ubt_4['처방일자(최초1) #113']\n",
    "csv_date['Group_4_CZ'] = csv_cz_4['처방일자(최초1) #101']\n",
    "csv_date['Group_4_DF'] = csv_ubt_df_4['처방일자(최초1) #107']"
   ]
  },
  {
   "cell_type": "code",
   "execution_count": 50,
   "id": "responsible-metro",
   "metadata": {
    "ExecuteTime": {
     "end_time": "2021-09-27T08:35:45.686066Z",
     "start_time": "2021-09-27T08:35:45.682268Z"
    }
   },
   "outputs": [],
   "source": [
    "group_4 = list(set(list(csv_ubt_4.index) + list(csv_clo_4.index)+ list(csv_cz_4.index)))"
   ]
  },
  {
   "cell_type": "code",
   "execution_count": 51,
   "id": "ready-costs",
   "metadata": {
    "ExecuteTime": {
     "end_time": "2021-09-27T08:35:46.015637Z",
     "start_time": "2021-09-27T08:35:46.011100Z"
    }
   },
   "outputs": [
    {
     "name": "stdout",
     "output_type": "stream",
     "text": [
      "1805 1430 63 42\n"
     ]
    }
   ],
   "source": [
    "print(len(csv_ubt_4), len(csv_ubt_df_4), len(csv_bx_4), len(csv_clo_4))"
   ]
  },
  {
   "cell_type": "code",
   "execution_count": 52,
   "id": "subtle-recipient",
   "metadata": {
    "ExecuteTime": {
     "end_time": "2021-09-27T08:35:46.636938Z",
     "start_time": "2021-09-27T08:35:46.631799Z"
    }
   },
   "outputs": [
    {
     "data": {
      "text/plain": [
       "1893"
      ]
     },
     "execution_count": 52,
     "metadata": {},
     "output_type": "execute_result"
    }
   ],
   "source": [
    "len(group_4)"
   ]
  },
  {
   "cell_type": "code",
   "execution_count": 53,
   "id": "fewer-privacy",
   "metadata": {
    "ExecuteTime": {
     "end_time": "2021-09-27T08:35:55.752029Z",
     "start_time": "2021-09-27T08:35:55.748084Z"
    }
   },
   "outputs": [],
   "source": [
    "cols = list(csv_date.columns[173:])"
   ]
  },
  {
   "cell_type": "code",
   "execution_count": 54,
   "id": "ethical-transcript",
   "metadata": {
    "ExecuteTime": {
     "end_time": "2021-09-27T08:35:55.950557Z",
     "start_time": "2021-09-27T08:35:55.947194Z"
    }
   },
   "outputs": [],
   "source": [
    "valid_ls = []"
   ]
  },
  {
   "cell_type": "code",
   "execution_count": 55,
   "id": "fiscal-payday",
   "metadata": {
    "ExecuteTime": {
     "end_time": "2021-09-27T08:36:29.835829Z",
     "start_time": "2021-09-27T08:35:56.161269Z"
    },
    "scrolled": false
   },
   "outputs": [],
   "source": [
    "for i in range(len(csv_date)):\n",
    "    flag = 1\n",
    "    for col in cols:\n",
    "        if type(csv_date.iloc[i][col]) == str:\n",
    "            valid_ls.append(1)\n",
    "            flag = 0\n",
    "            break\n",
    "        else:\n",
    "            continue\n",
    "    if flag:\n",
    "        valid_ls.append(0)"
   ]
  },
  {
   "cell_type": "code",
   "execution_count": 56,
   "id": "exclusive-scanner",
   "metadata": {
    "ExecuteTime": {
     "end_time": "2021-09-27T08:36:29.844343Z",
     "start_time": "2021-09-27T08:36:29.838150Z"
    }
   },
   "outputs": [],
   "source": [
    "csv_date['valid'] = valid_ls"
   ]
  },
  {
   "cell_type": "code",
   "execution_count": 57,
   "id": "realistic-cross",
   "metadata": {
    "ExecuteTime": {
     "end_time": "2021-09-27T08:36:29.908784Z",
     "start_time": "2021-09-27T08:36:29.845837Z"
    }
   },
   "outputs": [],
   "source": [
    "valid_data = csv_date.query('valid == 1')"
   ]
  },
  {
   "cell_type": "code",
   "execution_count": 58,
   "id": "portable-spread",
   "metadata": {
    "ExecuteTime": {
     "end_time": "2021-09-27T08:36:29.913575Z",
     "start_time": "2021-09-27T08:36:29.910515Z"
    }
   },
   "outputs": [],
   "source": [
    "group_1_col = cols[:3]\n",
    "group_2_col = cols[3:6]\n",
    "group_3_col = cols[6:9]\n",
    "group_4_col = cols[9:12]"
   ]
  },
  {
   "cell_type": "code",
   "execution_count": 59,
   "id": "e0fd3ff7",
   "metadata": {},
   "outputs": [
    {
     "name": "stderr",
     "output_type": "stream",
     "text": [
      "/home/spow12/anaconda3/envs/nam/lib/python3.7/site-packages/ipykernel_launcher.py:13: SettingWithCopyWarning: \n",
      "A value is trying to be set on a copy of a slice from a DataFrame.\n",
      "Try using .loc[row_indexer,col_indexer] = value instead\n",
      "\n",
      "See the caveats in the documentation: https://pandas.pydata.org/pandas-docs/stable/user_guide/indexing.html#returning-a-view-versus-a-copy\n",
      "  del sys.path[0]\n",
      "/home/spow12/anaconda3/envs/nam/lib/python3.7/site-packages/ipykernel_launcher.py:14: SettingWithCopyWarning: \n",
      "A value is trying to be set on a copy of a slice from a DataFrame.\n",
      "Try using .loc[row_indexer,col_indexer] = value instead\n",
      "\n",
      "See the caveats in the documentation: https://pandas.pydata.org/pandas-docs/stable/user_guide/indexing.html#returning-a-view-versus-a-copy\n",
      "  \n"
     ]
    }
   ],
   "source": [
    "fu_date_list = []\n",
    "fu_name_list = []\n",
    "for i in range(len(valid_data)):\n",
    "    col_name = []\n",
    "    dates = []\n",
    "    for col in cols:\n",
    "        if type(valid_data.iloc[i][col]) == str:\n",
    "            dates.append(valid_data.iloc[i][col])\n",
    "            col_name.append(col)\n",
    "    fu_date_list.append('|'.join(dates))\n",
    "    fu_name_list.append('|'.join(col_name))\n",
    "\n",
    "valid_data['fu_dates'] = fu_date_list\n",
    "valid_data['fu_names'] = fu_name_list"
   ]
  },
  {
   "cell_type": "code",
   "execution_count": 60,
   "id": "domestic-republic",
   "metadata": {
    "ExecuteTime": {
     "end_time": "2021-09-27T08:36:56.956191Z",
     "start_time": "2021-09-27T08:36:29.916703Z"
    }
   },
   "outputs": [],
   "source": [
    "last_fu = []\n",
    "first_fu = []\n",
    "last_fu_name = []\n",
    "first_fu_name = []\n",
    "\n",
    "for i in range(len(valid_data)):\n",
    "    col_name = []\n",
    "    dates = []\n",
    "    for col in cols:\n",
    "        if type(valid_data.iloc[i][col]) == str:\n",
    "            dates.append(valid_data.iloc[i][col])\n",
    "            col_name.append(col)\n",
    "    last_fu_idx, first_fu_idx = dates.index(max(dates)), dates.index(min(dates))\n",
    "    \n",
    "    last_fu.append(dates[last_fu_idx])\n",
    "    last_fu_name.append(col_name[last_fu_idx])\n",
    "    \n",
    "    first_fu.append(dates[first_fu_idx])\n",
    "    first_fu_name.append(col_name[first_fu_idx])"
   ]
  },
  {
   "cell_type": "code",
   "execution_count": 61,
   "id": "demonstrated-minimum",
   "metadata": {
    "ExecuteTime": {
     "end_time": "2021-09-27T08:36:56.965497Z",
     "start_time": "2021-09-27T08:36:56.958142Z"
    }
   },
   "outputs": [
    {
     "name": "stderr",
     "output_type": "stream",
     "text": [
      "/home/spow12/anaconda3/envs/nam/lib/python3.7/site-packages/ipykernel_launcher.py:1: SettingWithCopyWarning: \n",
      "A value is trying to be set on a copy of a slice from a DataFrame.\n",
      "Try using .loc[row_indexer,col_indexer] = value instead\n",
      "\n",
      "See the caveats in the documentation: https://pandas.pydata.org/pandas-docs/stable/user_guide/indexing.html#returning-a-view-versus-a-copy\n",
      "  \"\"\"Entry point for launching an IPython kernel.\n",
      "/home/spow12/anaconda3/envs/nam/lib/python3.7/site-packages/ipykernel_launcher.py:2: SettingWithCopyWarning: \n",
      "A value is trying to be set on a copy of a slice from a DataFrame.\n",
      "Try using .loc[row_indexer,col_indexer] = value instead\n",
      "\n",
      "See the caveats in the documentation: https://pandas.pydata.org/pandas-docs/stable/user_guide/indexing.html#returning-a-view-versus-a-copy\n",
      "  \n",
      "/home/spow12/anaconda3/envs/nam/lib/python3.7/site-packages/ipykernel_launcher.py:3: SettingWithCopyWarning: \n",
      "A value is trying to be set on a copy of a slice from a DataFrame.\n",
      "Try using .loc[row_indexer,col_indexer] = value instead\n",
      "\n",
      "See the caveats in the documentation: https://pandas.pydata.org/pandas-docs/stable/user_guide/indexing.html#returning-a-view-versus-a-copy\n",
      "  This is separate from the ipykernel package so we can avoid doing imports until\n",
      "/home/spow12/anaconda3/envs/nam/lib/python3.7/site-packages/ipykernel_launcher.py:4: SettingWithCopyWarning: \n",
      "A value is trying to be set on a copy of a slice from a DataFrame.\n",
      "Try using .loc[row_indexer,col_indexer] = value instead\n",
      "\n",
      "See the caveats in the documentation: https://pandas.pydata.org/pandas-docs/stable/user_guide/indexing.html#returning-a-view-versus-a-copy\n",
      "  after removing the cwd from sys.path.\n"
     ]
    }
   ],
   "source": [
    "valid_data['last_fu'] = last_fu\n",
    "valid_data['first_fu'] = first_fu\n",
    "valid_data['last_fu_name'] = last_fu_name\n",
    "valid_data['first_fu_name'] = first_fu_name"
   ]
  },
  {
   "cell_type": "code",
   "execution_count": 62,
   "id": "possible-louisiana",
   "metadata": {
    "ExecuteTime": {
     "end_time": "2021-09-27T08:36:57.047230Z",
     "start_time": "2021-09-27T08:36:56.967017Z"
    }
   },
   "outputs": [],
   "source": [
    "group_1_df = valid_data.query('last_fu_name in @group_1_col')\n",
    "group_2_df = valid_data.query('last_fu_name in @group_2_col')\n",
    "group_3_df = valid_data.query('last_fu_name in @group_3_col')\n",
    "group_4_df = valid_data.query('last_fu_name in @group_4_col')"
   ]
  },
  {
   "cell_type": "code",
   "execution_count": 63,
   "id": "declared-evening",
   "metadata": {
    "ExecuteTime": {
     "end_time": "2021-09-27T08:36:57.054663Z",
     "start_time": "2021-09-27T08:36:57.048827Z"
    }
   },
   "outputs": [
    {
     "name": "stderr",
     "output_type": "stream",
     "text": [
      "/home/spow12/anaconda3/envs/nam/lib/python3.7/site-packages/ipykernel_launcher.py:1: SettingWithCopyWarning: \n",
      "A value is trying to be set on a copy of a slice from a DataFrame.\n",
      "Try using .loc[row_indexer,col_indexer] = value instead\n",
      "\n",
      "See the caveats in the documentation: https://pandas.pydata.org/pandas-docs/stable/user_guide/indexing.html#returning-a-view-versus-a-copy\n",
      "  \"\"\"Entry point for launching an IPython kernel.\n",
      "/home/spow12/anaconda3/envs/nam/lib/python3.7/site-packages/ipykernel_launcher.py:2: SettingWithCopyWarning: \n",
      "A value is trying to be set on a copy of a slice from a DataFrame.\n",
      "Try using .loc[row_indexer,col_indexer] = value instead\n",
      "\n",
      "See the caveats in the documentation: https://pandas.pydata.org/pandas-docs/stable/user_guide/indexing.html#returning-a-view-versus-a-copy\n",
      "  \n",
      "/home/spow12/anaconda3/envs/nam/lib/python3.7/site-packages/ipykernel_launcher.py:3: SettingWithCopyWarning: \n",
      "A value is trying to be set on a copy of a slice from a DataFrame.\n",
      "Try using .loc[row_indexer,col_indexer] = value instead\n",
      "\n",
      "See the caveats in the documentation: https://pandas.pydata.org/pandas-docs/stable/user_guide/indexing.html#returning-a-view-versus-a-copy\n",
      "  This is separate from the ipykernel package so we can avoid doing imports until\n",
      "/home/spow12/anaconda3/envs/nam/lib/python3.7/site-packages/ipykernel_launcher.py:4: SettingWithCopyWarning: \n",
      "A value is trying to be set on a copy of a slice from a DataFrame.\n",
      "Try using .loc[row_indexer,col_indexer] = value instead\n",
      "\n",
      "See the caveats in the documentation: https://pandas.pydata.org/pandas-docs/stable/user_guide/indexing.html#returning-a-view-versus-a-copy\n",
      "  after removing the cwd from sys.path.\n"
     ]
    }
   ],
   "source": [
    "group_1_df['group'] = 1\n",
    "group_2_df['group'] = 2\n",
    "group_3_df['group'] = 3\n",
    "group_4_df['group'] = 4"
   ]
  },
  {
   "cell_type": "code",
   "execution_count": 64,
   "id": "individual-august",
   "metadata": {
    "ExecuteTime": {
     "end_time": "2021-09-27T08:36:57.111410Z",
     "start_time": "2021-09-27T08:36:57.056129Z"
    }
   },
   "outputs": [],
   "source": [
    "valid_data = pd.concat([group_1_df, group_2_df, group_3_df, group_4_df])"
   ]
  },
  {
   "cell_type": "code",
   "execution_count": 65,
   "id": "elegant-extraction",
   "metadata": {
    "ExecuteTime": {
     "end_time": "2021-09-27T08:36:57.118460Z",
     "start_time": "2021-09-27T08:36:57.113062Z"
    }
   },
   "outputs": [
    {
     "data": {
      "text/plain": [
       "3    2091\n",
       "4    1890\n",
       "1    1413\n",
       "2     805\n",
       "Name: group, dtype: int64"
      ]
     },
     "execution_count": 65,
     "metadata": {},
     "output_type": "execute_result"
    }
   ],
   "source": [
    "valid_data['group'].value_counts()"
   ]
  },
  {
   "cell_type": "code",
   "execution_count": 66,
   "id": "warming-equality",
   "metadata": {
    "ExecuteTime": {
     "end_time": "2021-09-27T08:36:57.166831Z",
     "start_time": "2021-09-27T08:36:57.119861Z"
    }
   },
   "outputs": [
    {
     "data": {
      "text/html": [
       "<div>\n",
       "<style scoped>\n",
       "    .dataframe tbody tr th:only-of-type {\n",
       "        vertical-align: middle;\n",
       "    }\n",
       "\n",
       "    .dataframe tbody tr th {\n",
       "        vertical-align: top;\n",
       "    }\n",
       "\n",
       "    .dataframe thead th {\n",
       "        text-align: right;\n",
       "    }\n",
       "</style>\n",
       "<table border=\"1\" class=\"dataframe\">\n",
       "  <thead>\n",
       "    <tr style=\"text-align: right;\">\n",
       "      <th></th>\n",
       "      <th>환자번호#1</th>\n",
       "      <th>내원구분코드#2</th>\n",
       "      <th>처방일자#3</th>\n",
       "      <th>처방일자{연령}#4</th>\n",
       "      <th>검사코드#5</th>\n",
       "      <th>검사명#6</th>\n",
       "      <th>검사결과내용#7</th>\n",
       "      <th>성별#8</th>\n",
       "      <th>사망일자#9</th>\n",
       "      <th>사망일#10</th>\n",
       "      <th>...</th>\n",
       "      <th>Group_4_CZ</th>\n",
       "      <th>Group_4_DF</th>\n",
       "      <th>valid</th>\n",
       "      <th>fu_dates</th>\n",
       "      <th>fu_names</th>\n",
       "      <th>last_fu</th>\n",
       "      <th>first_fu</th>\n",
       "      <th>last_fu_name</th>\n",
       "      <th>first_fu_name</th>\n",
       "      <th>group</th>\n",
       "    </tr>\n",
       "  </thead>\n",
       "  <tbody>\n",
       "    <tr>\n",
       "      <th>175</th>\n",
       "      <td>01450B997BD5</td>\n",
       "      <td>G</td>\n",
       "      <td>2003-02-07</td>\n",
       "      <td>41.0</td>\n",
       "      <td>BS4100</td>\n",
       "      <td>Esophagogastroduodenoscopy</td>\n",
       "      <td>ESOPHAGUS  :  FREE\\n\\nSTOMACH  :1.Diffuse muco...</td>\n",
       "      <td>M</td>\n",
       "      <td>NaN</td>\n",
       "      <td>NaN</td>\n",
       "      <td>...</td>\n",
       "      <td>NaN</td>\n",
       "      <td>NaN</td>\n",
       "      <td>1</td>\n",
       "      <td>2003-03-18|2003-03-18</td>\n",
       "      <td>Group_1_DL|Group_1_DF</td>\n",
       "      <td>2003-03-18</td>\n",
       "      <td>2003-03-18</td>\n",
       "      <td>Group_1_DL</td>\n",
       "      <td>Group_1_DL</td>\n",
       "      <td>1</td>\n",
       "    </tr>\n",
       "    <tr>\n",
       "      <th>291</th>\n",
       "      <td>02C8FE2DEF75</td>\n",
       "      <td>G</td>\n",
       "      <td>2010-08-17</td>\n",
       "      <td>49.0</td>\n",
       "      <td>BS4100</td>\n",
       "      <td>Esophagogastroduodenoscopy</td>\n",
       "      <td>▣ 검사정보 및 소견\\n\\nESOPHAGUS  :   FREE\\n\\n\\n\\nSTOM...</td>\n",
       "      <td>F</td>\n",
       "      <td>NaN</td>\n",
       "      <td>NaN</td>\n",
       "      <td>...</td>\n",
       "      <td>NaN</td>\n",
       "      <td>NaN</td>\n",
       "      <td>1</td>\n",
       "      <td>2020-01-23|2011-08-17</td>\n",
       "      <td>Group_1_DL|Group_2_DF</td>\n",
       "      <td>2020-01-23</td>\n",
       "      <td>2011-08-17</td>\n",
       "      <td>Group_1_DL</td>\n",
       "      <td>Group_2_DF</td>\n",
       "      <td>1</td>\n",
       "    </tr>\n",
       "    <tr>\n",
       "      <th>306</th>\n",
       "      <td>02CB7716C97D</td>\n",
       "      <td>G</td>\n",
       "      <td>2004-08-26</td>\n",
       "      <td>51.0</td>\n",
       "      <td>BS4100</td>\n",
       "      <td>Esophagogastroduodenoscopy</td>\n",
       "      <td>ESOPHAGUS  :  On the GE jnction, \\n\\n         ...</td>\n",
       "      <td>M</td>\n",
       "      <td>NaN</td>\n",
       "      <td>NaN</td>\n",
       "      <td>...</td>\n",
       "      <td>NaN</td>\n",
       "      <td>NaN</td>\n",
       "      <td>1</td>\n",
       "      <td>2004-10-05|2005-08-31|2004-10-05</td>\n",
       "      <td>Group_1_DL|Group_1_CZ|Group_1_DF</td>\n",
       "      <td>2005-08-31</td>\n",
       "      <td>2004-10-05</td>\n",
       "      <td>Group_1_CZ</td>\n",
       "      <td>Group_1_DL</td>\n",
       "      <td>1</td>\n",
       "    </tr>\n",
       "    <tr>\n",
       "      <th>307</th>\n",
       "      <td>02CB7758756D</td>\n",
       "      <td>G</td>\n",
       "      <td>2002-06-25</td>\n",
       "      <td>55.0</td>\n",
       "      <td>BS4100</td>\n",
       "      <td>Esophagogastroduodenoscopy</td>\n",
       "      <td>ESOPHAGUS  :  FREE\\n\\nSTOMACH  :  Gastric  muc...</td>\n",
       "      <td>M</td>\n",
       "      <td>NaN</td>\n",
       "      <td>NaN</td>\n",
       "      <td>...</td>\n",
       "      <td>NaN</td>\n",
       "      <td>NaN</td>\n",
       "      <td>1</td>\n",
       "      <td>2003-09-17|2003-09-17</td>\n",
       "      <td>Group_1_DL|Group_1_DF</td>\n",
       "      <td>2003-09-17</td>\n",
       "      <td>2003-09-17</td>\n",
       "      <td>Group_1_DL</td>\n",
       "      <td>Group_1_DL</td>\n",
       "      <td>1</td>\n",
       "    </tr>\n",
       "    <tr>\n",
       "      <th>308</th>\n",
       "      <td>02CC239D3E57</td>\n",
       "      <td>G</td>\n",
       "      <td>2001-12-13</td>\n",
       "      <td>58.0</td>\n",
       "      <td>BS4100</td>\n",
       "      <td>Esophagogastroduodenoscopy</td>\n",
       "      <td>ESOPHAGUS  :   FREE\\n\\nSTOMACH  :   LC side of...</td>\n",
       "      <td>M</td>\n",
       "      <td>2018-05-01 00:00:00</td>\n",
       "      <td>2018-05-04</td>\n",
       "      <td>...</td>\n",
       "      <td>NaN</td>\n",
       "      <td>NaN</td>\n",
       "      <td>1</td>\n",
       "      <td>2004-01-28</td>\n",
       "      <td>Group_1_DL</td>\n",
       "      <td>2004-01-28</td>\n",
       "      <td>2004-01-28</td>\n",
       "      <td>Group_1_DL</td>\n",
       "      <td>Group_1_DL</td>\n",
       "      <td>1</td>\n",
       "    </tr>\n",
       "    <tr>\n",
       "      <th>...</th>\n",
       "      <td>...</td>\n",
       "      <td>...</td>\n",
       "      <td>...</td>\n",
       "      <td>...</td>\n",
       "      <td>...</td>\n",
       "      <td>...</td>\n",
       "      <td>...</td>\n",
       "      <td>...</td>\n",
       "      <td>...</td>\n",
       "      <td>...</td>\n",
       "      <td>...</td>\n",
       "      <td>...</td>\n",
       "      <td>...</td>\n",
       "      <td>...</td>\n",
       "      <td>...</td>\n",
       "      <td>...</td>\n",
       "      <td>...</td>\n",
       "      <td>...</td>\n",
       "      <td>...</td>\n",
       "      <td>...</td>\n",
       "      <td>...</td>\n",
       "    </tr>\n",
       "    <tr>\n",
       "      <th>32854</th>\n",
       "      <td>FD7B5D1D4A5F</td>\n",
       "      <td>G</td>\n",
       "      <td>2018-09-07</td>\n",
       "      <td>56.0</td>\n",
       "      <td>BS4100</td>\n",
       "      <td>Esophagogastroduodenoscopy</td>\n",
       "      <td>▣ 검사정보 및 소견\\n\\n\\n\\nEGD\\n\\n\\n\\n■ Clinical Infor...</td>\n",
       "      <td>M</td>\n",
       "      <td>NaN</td>\n",
       "      <td>NaN</td>\n",
       "      <td>...</td>\n",
       "      <td>NaN</td>\n",
       "      <td>2018-10-31</td>\n",
       "      <td>1</td>\n",
       "      <td>2018-10-31|2018-10-31</td>\n",
       "      <td>Group_4_DL|Group_4_DF</td>\n",
       "      <td>2018-10-31</td>\n",
       "      <td>2018-10-31</td>\n",
       "      <td>Group_4_DL</td>\n",
       "      <td>Group_4_DL</td>\n",
       "      <td>4</td>\n",
       "    </tr>\n",
       "    <tr>\n",
       "      <th>32866</th>\n",
       "      <td>FECC4609D093</td>\n",
       "      <td>G</td>\n",
       "      <td>2019-01-21</td>\n",
       "      <td>58.0</td>\n",
       "      <td>BS4100</td>\n",
       "      <td>Esophagogastroduodenoscopy</td>\n",
       "      <td>▣ 검사정보 및 소견\\n\\n\\n\\nEGD\\n\\n\\n\\n■ Clinical Infor...</td>\n",
       "      <td>F</td>\n",
       "      <td>NaN</td>\n",
       "      <td>NaN</td>\n",
       "      <td>...</td>\n",
       "      <td>NaN</td>\n",
       "      <td>2019-02-20</td>\n",
       "      <td>1</td>\n",
       "      <td>2019-02-20|2019-02-20</td>\n",
       "      <td>Group_4_DL|Group_4_DF</td>\n",
       "      <td>2019-02-20</td>\n",
       "      <td>2019-02-20</td>\n",
       "      <td>Group_4_DL</td>\n",
       "      <td>Group_4_DL</td>\n",
       "      <td>4</td>\n",
       "    </tr>\n",
       "    <tr>\n",
       "      <th>32870</th>\n",
       "      <td>FED6F21700CB</td>\n",
       "      <td>G</td>\n",
       "      <td>2018-02-05</td>\n",
       "      <td>61.0</td>\n",
       "      <td>BS4100</td>\n",
       "      <td>Esophagogastroduodenoscopy</td>\n",
       "      <td>▣ 검사정보 및 소견\\n\\n\\n\\nEGD\\n\\n\\n\\n■ Clinical Infor...</td>\n",
       "      <td>F</td>\n",
       "      <td>NaN</td>\n",
       "      <td>NaN</td>\n",
       "      <td>...</td>\n",
       "      <td>NaN</td>\n",
       "      <td>2018-02-22</td>\n",
       "      <td>1</td>\n",
       "      <td>2018-02-22|2018-02-22</td>\n",
       "      <td>Group_4_DL|Group_4_DF</td>\n",
       "      <td>2018-02-22</td>\n",
       "      <td>2018-02-22</td>\n",
       "      <td>Group_4_DL</td>\n",
       "      <td>Group_4_DL</td>\n",
       "      <td>4</td>\n",
       "    </tr>\n",
       "    <tr>\n",
       "      <th>32877</th>\n",
       "      <td>FF2A4C52D915</td>\n",
       "      <td>G</td>\n",
       "      <td>2019-04-26</td>\n",
       "      <td>60.0</td>\n",
       "      <td>BS4100</td>\n",
       "      <td>Esophagogastroduodenoscopy</td>\n",
       "      <td>▣ 검사정보 및 소견\\n\\n\\n\\nEGD\\n\\n\\n\\n■ Clinical Infor...</td>\n",
       "      <td>M</td>\n",
       "      <td>NaN</td>\n",
       "      <td>NaN</td>\n",
       "      <td>...</td>\n",
       "      <td>NaN</td>\n",
       "      <td>2019-05-15</td>\n",
       "      <td>1</td>\n",
       "      <td>2019-05-15|2019-05-15</td>\n",
       "      <td>Group_4_DL|Group_4_DF</td>\n",
       "      <td>2019-05-15</td>\n",
       "      <td>2019-05-15</td>\n",
       "      <td>Group_4_DL</td>\n",
       "      <td>Group_4_DL</td>\n",
       "      <td>4</td>\n",
       "    </tr>\n",
       "    <tr>\n",
       "      <th>32878</th>\n",
       "      <td>FF2ADE064A03</td>\n",
       "      <td>G</td>\n",
       "      <td>2018-12-04</td>\n",
       "      <td>34.0</td>\n",
       "      <td>BS4100</td>\n",
       "      <td>Esophagogastroduodenoscopy</td>\n",
       "      <td>▣ 검사정보 및 소견\\n\\n\\n\\nEGD\\n\\n\\n\\n■ Clinical Infor...</td>\n",
       "      <td>M</td>\n",
       "      <td>NaN</td>\n",
       "      <td>NaN</td>\n",
       "      <td>...</td>\n",
       "      <td>NaN</td>\n",
       "      <td>2019-01-02</td>\n",
       "      <td>1</td>\n",
       "      <td>2019-01-02|2019-01-02</td>\n",
       "      <td>Group_4_DL|Group_4_DF</td>\n",
       "      <td>2019-01-02</td>\n",
       "      <td>2019-01-02</td>\n",
       "      <td>Group_4_DL</td>\n",
       "      <td>Group_4_DL</td>\n",
       "      <td>4</td>\n",
       "    </tr>\n",
       "  </tbody>\n",
       "</table>\n",
       "<p>6199 rows × 193 columns</p>\n",
       "</div>"
      ],
      "text/plain": [
       "             환자번호#1 내원구분코드#2      처방일자#3  처방일자{연령}#4  검사코드#5  \\\n",
       "175    01450B997BD5        G  2003-02-07        41.0  BS4100   \n",
       "291    02C8FE2DEF75        G  2010-08-17        49.0  BS4100   \n",
       "306    02CB7716C97D        G  2004-08-26        51.0  BS4100   \n",
       "307    02CB7758756D        G  2002-06-25        55.0  BS4100   \n",
       "308    02CC239D3E57        G  2001-12-13        58.0  BS4100   \n",
       "...             ...      ...         ...         ...     ...   \n",
       "32854  FD7B5D1D4A5F        G  2018-09-07        56.0  BS4100   \n",
       "32866  FECC4609D093        G  2019-01-21        58.0  BS4100   \n",
       "32870  FED6F21700CB        G  2018-02-05        61.0  BS4100   \n",
       "32877  FF2A4C52D915        G  2019-04-26        60.0  BS4100   \n",
       "32878  FF2ADE064A03        G  2018-12-04        34.0  BS4100   \n",
       "\n",
       "                            검사명#6  \\\n",
       "175    Esophagogastroduodenoscopy   \n",
       "291    Esophagogastroduodenoscopy   \n",
       "306    Esophagogastroduodenoscopy   \n",
       "307    Esophagogastroduodenoscopy   \n",
       "308    Esophagogastroduodenoscopy   \n",
       "...                           ...   \n",
       "32854  Esophagogastroduodenoscopy   \n",
       "32866  Esophagogastroduodenoscopy   \n",
       "32870  Esophagogastroduodenoscopy   \n",
       "32877  Esophagogastroduodenoscopy   \n",
       "32878  Esophagogastroduodenoscopy   \n",
       "\n",
       "                                                검사결과내용#7 성별#8  \\\n",
       "175    ESOPHAGUS  :  FREE\\n\\nSTOMACH  :1.Diffuse muco...    M   \n",
       "291    ▣ 검사정보 및 소견\\n\\nESOPHAGUS  :   FREE\\n\\n\\n\\nSTOM...    F   \n",
       "306    ESOPHAGUS  :  On the GE jnction, \\n\\n         ...    M   \n",
       "307    ESOPHAGUS  :  FREE\\n\\nSTOMACH  :  Gastric  muc...    M   \n",
       "308    ESOPHAGUS  :   FREE\\n\\nSTOMACH  :   LC side of...    M   \n",
       "...                                                  ...  ...   \n",
       "32854  ▣ 검사정보 및 소견\\n\\n\\n\\nEGD\\n\\n\\n\\n■ Clinical Infor...    M   \n",
       "32866  ▣ 검사정보 및 소견\\n\\n\\n\\nEGD\\n\\n\\n\\n■ Clinical Infor...    F   \n",
       "32870  ▣ 검사정보 및 소견\\n\\n\\n\\nEGD\\n\\n\\n\\n■ Clinical Infor...    F   \n",
       "32877  ▣ 검사정보 및 소견\\n\\n\\n\\nEGD\\n\\n\\n\\n■ Clinical Infor...    M   \n",
       "32878  ▣ 검사정보 및 소견\\n\\n\\n\\nEGD\\n\\n\\n\\n■ Clinical Infor...    M   \n",
       "\n",
       "                    사망일자#9      사망일#10  ... Group_4_CZ  Group_4_DF valid  \\\n",
       "175                    NaN         NaN  ...        NaN         NaN     1   \n",
       "291                    NaN         NaN  ...        NaN         NaN     1   \n",
       "306                    NaN         NaN  ...        NaN         NaN     1   \n",
       "307                    NaN         NaN  ...        NaN         NaN     1   \n",
       "308    2018-05-01 00:00:00  2018-05-04  ...        NaN         NaN     1   \n",
       "...                    ...         ...  ...        ...         ...   ...   \n",
       "32854                  NaN         NaN  ...        NaN  2018-10-31     1   \n",
       "32866                  NaN         NaN  ...        NaN  2019-02-20     1   \n",
       "32870                  NaN         NaN  ...        NaN  2018-02-22     1   \n",
       "32877                  NaN         NaN  ...        NaN  2019-05-15     1   \n",
       "32878                  NaN         NaN  ...        NaN  2019-01-02     1   \n",
       "\n",
       "                               fu_dates                          fu_names  \\\n",
       "175               2003-03-18|2003-03-18             Group_1_DL|Group_1_DF   \n",
       "291               2020-01-23|2011-08-17             Group_1_DL|Group_2_DF   \n",
       "306    2004-10-05|2005-08-31|2004-10-05  Group_1_DL|Group_1_CZ|Group_1_DF   \n",
       "307               2003-09-17|2003-09-17             Group_1_DL|Group_1_DF   \n",
       "308                          2004-01-28                        Group_1_DL   \n",
       "...                                 ...                               ...   \n",
       "32854             2018-10-31|2018-10-31             Group_4_DL|Group_4_DF   \n",
       "32866             2019-02-20|2019-02-20             Group_4_DL|Group_4_DF   \n",
       "32870             2018-02-22|2018-02-22             Group_4_DL|Group_4_DF   \n",
       "32877             2019-05-15|2019-05-15             Group_4_DL|Group_4_DF   \n",
       "32878             2019-01-02|2019-01-02             Group_4_DL|Group_4_DF   \n",
       "\n",
       "          last_fu    first_fu last_fu_name first_fu_name group  \n",
       "175    2003-03-18  2003-03-18   Group_1_DL    Group_1_DL     1  \n",
       "291    2020-01-23  2011-08-17   Group_1_DL    Group_2_DF     1  \n",
       "306    2005-08-31  2004-10-05   Group_1_CZ    Group_1_DL     1  \n",
       "307    2003-09-17  2003-09-17   Group_1_DL    Group_1_DL     1  \n",
       "308    2004-01-28  2004-01-28   Group_1_DL    Group_1_DL     1  \n",
       "...           ...         ...          ...           ...   ...  \n",
       "32854  2018-10-31  2018-10-31   Group_4_DL    Group_4_DL     4  \n",
       "32866  2019-02-20  2019-02-20   Group_4_DL    Group_4_DL     4  \n",
       "32870  2018-02-22  2018-02-22   Group_4_DL    Group_4_DL     4  \n",
       "32877  2019-05-15  2019-05-15   Group_4_DL    Group_4_DL     4  \n",
       "32878  2019-01-02  2019-01-02   Group_4_DL    Group_4_DL     4  \n",
       "\n",
       "[6199 rows x 193 columns]"
      ]
     },
     "execution_count": 66,
     "metadata": {},
     "output_type": "execute_result"
    }
   ],
   "source": [
    "valid_data"
   ]
  },
  {
   "cell_type": "code",
   "execution_count": 67,
   "id": "great-velvet",
   "metadata": {
    "ExecuteTime": {
     "end_time": "2021-09-27T08:40:02.358685Z",
     "start_time": "2021-09-27T08:40:02.353799Z"
    }
   },
   "outputs": [],
   "source": [
    "col = valid_data.columns[173:-8]\n",
    "a, b = list(col[:3]), list(col[9:])\n",
    "col_ls = a + b"
   ]
  },
  {
   "cell_type": "code",
   "execution_count": 68,
   "id": "meaningful-martial",
   "metadata": {
    "ExecuteTime": {
     "end_time": "2021-09-27T08:40:29.819901Z",
     "start_time": "2021-09-27T08:40:16.512603Z"
    }
   },
   "outputs": [],
   "source": [
    "first_fu = []\n",
    "first_fu_name = []\n",
    "for i in range(len(valid_data)):\n",
    "    col_name = []\n",
    "    dates = []\n",
    "    for col in col_ls:\n",
    "        if type(valid_data.iloc[i][col]) == str:\n",
    "            dates.append(valid_data.iloc[i][col])\n",
    "            col_name.append(col)\n",
    "    if dates == []:\n",
    "        first_fu.append(None)\n",
    "        first_fu_name.append(None)\n",
    "        continue\n",
    "    else:\n",
    "        first_fu_idx = dates.index(min(dates))\n",
    "        first_fu.append(dates[first_fu_idx])\n",
    "        first_fu_name.append(col_name[first_fu_idx])\n",
    "\n",
    "valid_data['first_negative_date'] = first_fu\n",
    "valid_data['first_negative_name'] = first_fu_name"
   ]
  },
  {
   "cell_type": "code",
   "execution_count": 69,
   "id": "fbac9ffe",
   "metadata": {},
   "outputs": [],
   "source": [
    "valid_data.to_csv('../data_for_analysis/bx_for_hp.csv',index=False)"
   ]
  }
 ],
 "metadata": {
  "kernelspec": {
   "display_name": "Python 3",
   "language": "python",
   "name": "python3"
  },
  "language_info": {
   "codemirror_mode": {
    "name": "ipython",
    "version": 3
   },
   "file_extension": ".py",
   "mimetype": "text/x-python",
   "name": "python",
   "nbconvert_exporter": "python",
   "pygments_lexer": "ipython3",
   "version": "3.7.10"
  }
 },
 "nbformat": 4,
 "nbformat_minor": 5
}
